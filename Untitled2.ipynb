{
  "metadata": {
    "kernelspec": {
      "name": "python",
      "display_name": "Python (Pyodide)",
      "language": "python"
    },
    "language_info": {
      "codemirror_mode": {
        "name": "python",
        "version": 3
      },
      "file_extension": ".py",
      "mimetype": "text/x-python",
      "name": "python",
      "nbconvert_exporter": "python",
      "pygments_lexer": "ipython3",
      "version": "3.8"
    }
  },
  "nbformat_minor": 4,
  "nbformat": 4,
  "cells": [
    {
      "cell_type": "code",
      "source": "import numpy as np \nimport pandas as pd \nimport pickle as pkl",
      "metadata": {
        "trusted": true
      },
      "outputs": [],
      "execution_count": 1
    },
    {
      "cell_type": "code",
      "source": "from sklearn.model_selection import train_test_split\nfrom sklearn.ensemble import RandomForestClassifier\nimport pickle",
      "metadata": {
        "trusted": true
      },
      "outputs": [],
      "execution_count": 2
    },
    {
      "cell_type": "code",
      "source": "data = pd.read_csv('train.csv')",
      "metadata": {
        "trusted": true
      },
      "outputs": [],
      "execution_count": 3
    },
    {
      "cell_type": "code",
      "source": "print(data.info())",
      "metadata": {
        "trusted": true
      },
      "outputs": [
        {
          "name": "stdout",
          "text": "<class 'pandas.core.frame.DataFrame'>\nRangeIndex: 165034 entries, 0 to 165033\nData columns (total 14 columns):\n #   Column           Non-Null Count   Dtype  \n---  ------           --------------   -----  \n 0   id               165034 non-null  int64  \n 1   CustomerId       165034 non-null  int64  \n 2   Surname          165034 non-null  object \n 3   CreditScore      165034 non-null  int64  \n 4   Geography        165034 non-null  object \n 5   Gender           165034 non-null  object \n 6   Age              165034 non-null  float64\n 7   Tenure           165034 non-null  int64  \n 8   Balance          165034 non-null  float64\n 9   NumOfProducts    165034 non-null  int64  \n 10  HasCrCard        165034 non-null  float64\n 11  IsActiveMember   165034 non-null  float64\n 12  EstimatedSalary  165034 non-null  float64\n 13  Exited           165034 non-null  int64  \ndtypes: float64(5), int64(6), object(3)\nmemory usage: 15.7+ MB\nNone\n",
          "output_type": "stream"
        }
      ],
      "execution_count": 4
    },
    {
      "cell_type": "code",
      "source": "features = ['CreditScore', 'Age', 'Balance', 'EstimatedSalary']\nX = data[features]\ny = data['Exited']",
      "metadata": {
        "trusted": true
      },
      "outputs": [],
      "execution_count": 5
    },
    {
      "cell_type": "code",
      "source": "X_train, X_test, y_train, y_test = train_test_split(X, y, test_size=0.2, random_state=42)",
      "metadata": {
        "trusted": true
      },
      "outputs": [],
      "execution_count": 6
    },
    {
      "cell_type": "code",
      "source": "model = RandomForestClassifier()\nmodel.fit(X_train, y_train)",
      "metadata": {
        "trusted": true
      },
      "outputs": [],
      "execution_count": null
    },
    {
      "cell_type": "code",
      "source": "with open('bank_churn_model.pkl', 'wb') as file:\n    pkl.dump(model, file)",
      "metadata": {
        "trusted": true
      },
      "outputs": [],
      "execution_count": null
    },
    {
      "cell_type": "code",
      "source": "",
      "metadata": {
        "trusted": true
      },
      "outputs": [],
      "execution_count": null
    }
  ]
}